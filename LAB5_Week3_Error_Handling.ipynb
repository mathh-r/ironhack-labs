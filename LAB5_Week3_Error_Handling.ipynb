{
 "cells": [
  {
   "cell_type": "markdown",
   "metadata": {
    "colab_type": "text",
    "id": "xRMTKqlleA5D"
   },
   "source": [
    "![Ironhack logo](https://i.imgur.com/1QgrNNw.png)\n",
    "\n",
    "# Lab | Error Handling\n",
    "\n",
    "## Introduction\n",
    "\n",
    "In this lab we will learn how to handle errors in Python. We will handle the errors using a `try` block or an `if` statement. We will also learn how to fix errors and raise errors in our code.\n",
    "\n",
    "\n",
    "## Resources\n",
    "\n",
    "[Errors and Exceptions](https://docs.python.org/3/tutorial/errors.html)\n",
    "\n",
    "[Optional Types](https://docs.python.org/3/library/typing.html#typing.Optional)"
   ]
  },
  {
   "cell_type": "code",
   "execution_count": 59,
   "metadata": {
    "colab": {},
    "colab_type": "code",
    "id": "33aykiO1d-XT"
   },
   "outputs": [],
   "source": [
    "# Libraries\n",
    "import math"
   ]
  },
  {
   "cell_type": "markdown",
   "metadata": {
    "colab_type": "text",
    "id": "UA8Sce_sd-Xb"
   },
   "source": [
    "# Handling Errors Using `if` Statements\n",
    "\n",
    "In many cases, we are able to identify issues that may come up in our code and handle those handlful of issues with an `if` statment. Sometimes we would like to handle different types of inputs, we will have to write two different branches of code for the two different cases we allowed in the beginning.\n",
    "\n",
    "In the 3 cells below, add an `if` statment that will handle both types of input allowed in the functions."
   ]
  },
  {
   "cell_type": "markdown",
   "metadata": {},
   "source": [
    "**1. Modify the code below to handle positive and negative numbers by adding an if statement and performing a transformation**"
   ]
  },
  {
   "cell_type": "code",
   "execution_count": 67,
   "metadata": {
    "colab": {},
    "colab_type": "code",
    "id": "z_2AsNicd-Xd"
   },
   "outputs": [
    {
     "data": {
      "text/plain": [
       "2.0"
      ]
     },
     "execution_count": 67,
     "metadata": {},
     "output_type": "execute_result"
    }
   ],
   "source": [
    "def sqrt_for_all(x):\n",
    "    \"\"\"\n",
    "    This function will take any real number and \n",
    "    return the square root of its magnitude.\n",
    "    \n",
    "    Input: Real number\n",
    "    Output: Real number\n",
    "    \n",
    "    Sample Input: -4\n",
    "    Sample Output: 2.0\n",
    "    \"\"\"\n",
    "    \n",
    "    if x < 0:\n",
    "        x = x * -1\n",
    "    return math.sqrt(x)\n",
    "\n",
    "sqrt_for_all(-4)"
   ]
  },
  {
   "cell_type": "markdown",
   "metadata": {},
   "source": [
    "**2. Modify the code below to handle zero as well. In the case of zero, return zero**"
   ]
  },
  {
   "cell_type": "code",
   "execution_count": 7,
   "metadata": {
    "colab": {},
    "colab_type": "code",
    "id": "_knyIShRd-Xn"
   },
   "outputs": [
    {
     "data": {
      "text/plain": [
       "0"
      ]
     },
     "execution_count": 7,
     "metadata": {},
     "output_type": "execute_result"
    }
   ],
   "source": [
    "def divide(x, y):\n",
    "    \"\"\"\n",
    "    This function will take any two real numbers \n",
    "    and return their quotient. \n",
    "    If the denominator is zero, we return zero.\n",
    "    \n",
    "    Input: Real number\n",
    "    Output: Real number\n",
    "    \n",
    "    Sample Input: 5, 1\n",
    "    Sample Output: 5.0\n",
    "    \"\"\"\n",
    "    \n",
    "    try:\n",
    "        return x/y\n",
    "    except:\n",
    "        return 0\n",
    "\n",
    "divide(5, 0)"
   ]
  },
  {
   "cell_type": "markdown",
   "metadata": {},
   "source": [
    "**3. Modify the function below that it will take either an number and a list or two numbers.** \n",
    "\n",
    "\n",
    "**If we take two numbers, add them together and return a list of length 1.**\n",
    "\n",
    "\n",
    "**Otherwise, add the number to every element of the list and return the resulting list.**"
   ]
  },
  {
   "cell_type": "code",
   "execution_count": 12,
   "metadata": {
    "colab": {},
    "colab_type": "code",
    "id": "4tM0eakyd-Xy"
   },
   "outputs": [
    {
     "data": {
      "text/plain": [
       "11"
      ]
     },
     "execution_count": 12,
     "metadata": {},
     "output_type": "execute_result"
    }
   ],
   "source": [
    "def add_elements(a, l):\n",
    "    \"\"\"\n",
    "    This function takes either two numbers or a list and a number.    \n",
    "\n",
    "    Input: number and list or two numbers\n",
    "    Output: list\n",
    "    \n",
    "    Sample Input: 5, 6\n",
    "    Sample Output: [11]\n",
    "\n",
    "    Sample Input: 4, [4, 5, 6]\n",
    "    Sample Output: [8, 9, 10]\n",
    "    \"\"\"\n",
    "    \n",
    "    try:\n",
    "        return [a + element for element in l]\n",
    "    except:\n",
    "        return a + l\n",
    "        \n",
    "add_elements(5, 6)"
   ]
  },
  {
   "cell_type": "markdown",
   "metadata": {
    "colab_type": "text",
    "id": "5LUQESird-X4"
   },
   "source": [
    "# Fixing Errors to Get Code to Run\n",
    "\n",
    "Sometimes the error is not caused by the input but by the code itself. In the 2 following cells below, examine the error and correct the code to avoid the error."
   ]
  },
  {
   "cell_type": "markdown",
   "metadata": {},
   "source": [
    "**4. Modify the code below**"
   ]
  },
  {
   "cell_type": "code",
   "execution_count": 15,
   "metadata": {
    "colab": {},
    "colab_type": "code",
    "id": "HlHlN4Jgd-X6"
   },
   "outputs": [
    {
     "data": {
      "text/plain": [
       "14"
      ]
     },
     "execution_count": 15,
     "metadata": {},
     "output_type": "execute_result"
    }
   ],
   "source": [
    "l = [1,2,3,4]\n",
    "\n",
    "sum([element + 1 for element in l])"
   ]
  },
  {
   "cell_type": "markdown",
   "metadata": {},
   "source": [
    "**5. Modify the code below**"
   ]
  },
  {
   "cell_type": "code",
   "execution_count": 18,
   "metadata": {
    "colab": {},
    "colab_type": "code",
    "id": "5TFPhs9vd-X_"
   },
   "outputs": [
    {
     "name": "stdout",
     "output_type": "stream",
     "text": [
      "The current element in the loop is 1\n",
      "The current element in the loop is 2\n",
      "The current element in the loop is 3\n",
      "The current element in the loop is 4\n"
     ]
    }
   ],
   "source": [
    "l = [1,2,3,4]\n",
    "\n",
    "for element in l:\n",
    "    print(f\"The current element in the loop is {element}\")"
   ]
  },
  {
   "cell_type": "markdown",
   "metadata": {
    "colab_type": "text",
    "id": "mFMNubT9d-YG"
   },
   "source": [
    "# Handling Errors Using `try` and `except`\n",
    "\n",
    "The `try` and `except` clauses create a block for handling exceptions. When we wrap code in this block, we first attempt the code in the `try` and if an error is thrown, we can handle specific errors or all errors in the `except` portion.\n",
    "\n",
    "In the 4 cells below, modify the code to catch the error and print a meaningful message that will alert the user what went wrong. You may catch the error using a general `except` or a specific `except` for the error caused by the code."
   ]
  },
  {
   "cell_type": "markdown",
   "metadata": {},
   "source": [
    "**6. Modify the code below**"
   ]
  },
  {
   "cell_type": "code",
   "execution_count": 23,
   "metadata": {
    "colab": {},
    "colab_type": "code",
    "id": "rDAkM9a_d-YH"
   },
   "outputs": [
    {
     "name": "stdout",
     "output_type": "stream",
     "text": [
      "An error occurred: list index out of range\n"
     ]
    }
   ],
   "source": [
    "abc=[10,20,20]\n",
    "try:\n",
    "    print(abc[3])\n",
    "except Exception as error:\n",
    "    print(f'An error occurred: {error}')"
   ]
  },
  {
   "cell_type": "markdown",
   "metadata": {},
   "source": [
    "**7. Modify the code below**"
   ]
  },
  {
   "cell_type": "code",
   "execution_count": 24,
   "metadata": {
    "colab": {},
    "colab_type": "code",
    "id": "7k6mh45gd-YO"
   },
   "outputs": [
    {
     "name": "stdout",
     "output_type": "stream",
     "text": [
      "An error occurred: division by zero\n"
     ]
    }
   ],
   "source": [
    "x = 5\n",
    "y = 0\n",
    "try:\n",
    "    z = x/y\n",
    "except Exception as error:\n",
    "    print(f'An error occurred: {error}')"
   ]
  },
  {
   "cell_type": "markdown",
   "metadata": {},
   "source": [
    "**8. Modify the code below**"
   ]
  },
  {
   "cell_type": "code",
   "execution_count": 28,
   "metadata": {
    "colab": {},
    "colab_type": "code",
    "id": "a13OgyE1d-YV"
   },
   "outputs": [
    {
     "name": "stdout",
     "output_type": "stream",
     "text": [
      "An error occurred: unsupported operand type(s) for ** or pow(): 'str' and 'int'\n",
      "An error occurred: unsupported operand type(s) for ** or pow(): 'str' and 'int'\n",
      "An error occurred: unsupported operand type(s) for ** or pow(): 'str' and 'int'\n"
     ]
    }
   ],
   "source": [
    "error = []\n",
    "for i in ['a','b','c']:\n",
    "    try:\n",
    "        print(i**2)\n",
    "    except Exception as error:\n",
    "        print(f'An error occurred: {error}')"
   ]
  },
  {
   "cell_type": "markdown",
   "metadata": {},
   "source": [
    "**9. Modify the code below**"
   ]
  },
  {
   "cell_type": "code",
   "execution_count": 29,
   "metadata": {
    "colab": {},
    "colab_type": "code",
    "id": "esJnxjj1d-YZ"
   },
   "outputs": [
    {
     "name": "stdout",
     "output_type": "stream",
     "text": [
      "An error occurred: name 'some_string' is not defined\n"
     ]
    }
   ],
   "source": [
    "try:\n",
    "    print(some_string)\n",
    "except Exception as error:\n",
    "        print(f'An error occurred: {error}')"
   ]
  },
  {
   "cell_type": "markdown",
   "metadata": {
    "colab_type": "text",
    "id": "nCjEJE40d-Yd"
   },
   "source": [
    "# Bonus Challenge - Raise Errors on Your Own\n",
    "\n",
    "There are cases where you need to alert your users of a problem even if the input will not immediately produce an error. In these cases you may want to throw an error yourself to bring attention to the problem. In the 2 cells below, write the functions as directed and add the appropriate errors using the `raise` clause. Make sure to add a meaningful error message."
   ]
  },
  {
   "cell_type": "code",
   "execution_count": 37,
   "metadata": {
    "colab": {},
    "colab_type": "code",
    "id": "T1ngCG6Ad-Ye"
   },
   "outputs": [
    {
     "name": "stdout",
     "output_type": "stream",
     "text": [
      "This operation is not supported.\n",
      "Error: unsupported operand type(s) for ** or pow(): 'str' and 'int'\n"
     ]
    }
   ],
   "source": [
    "def log_square(x):\n",
    "    \"\"\"\n",
    "    This function takes a numeric value and returns the \n",
    "    natural log of the square of the number.\n",
    "    The function raises an error if the number is equal to zero.\n",
    "    Use the math.log function in this funtion.\n",
    "    \n",
    "    Input: Real number\n",
    "    Output: Real number or error\n",
    "    \n",
    "    Sample Input: 5\n",
    "    Sample Output: 3.21887\n",
    "    \"\"\"\n",
    "    square = 0\n",
    "    \n",
    "    try:\n",
    "        square = pow(x,2)\n",
    "        try:\n",
    "            square = math.log(square)\n",
    "            print(square)\n",
    "        except Exception as error:\n",
    "            print(f'This operation is not supported.\\nError: {error}')\n",
    "    except Exception as error:\n",
    "        print(f'This operation is not supported.\\nError: {error}')\n",
    "\n",
    "log_square('a')"
   ]
  },
  {
   "cell_type": "code",
   "execution_count": 53,
   "metadata": {
    "colab": {},
    "colab_type": "code",
    "id": "sombPY4md-Yj"
   },
   "outputs": [
    {
     "name": "stdout",
     "output_type": "stream",
     "text": [
      "There's no capital letter.\n"
     ]
    }
   ],
   "source": [
    "import re\n",
    "def check_capital(x):\n",
    "    \"\"\"\n",
    "    This function returns true if the string contains \n",
    "    at least one capital letter and throws an error otherwise.\n",
    "    \n",
    "    Input: String\n",
    "    Output: Bool or error message\n",
    "    \n",
    "    Sample Input: 'John'\n",
    "    Sample Output: True\n",
    "    \"\"\"\n",
    "    try:\n",
    "        if re.search('[A-Z]',x):\n",
    "            capital_letters = re.findall('[A-Z]',x)\n",
    "            return print(f\"The capital letters are: {capital_letters}\")\n",
    "        else:\n",
    "            print(\"There's no capital letter.\")\n",
    "    except Exception as error:\n",
    "        print(f'An error occurred: {error}')\n",
    "\n",
    "check_capital('jhon')    "
   ]
  }
 ],
 "metadata": {
  "colab": {
   "name": "main.ipynb",
   "provenance": []
  },
  "kernelspec": {
   "display_name": "Python 3",
   "language": "python",
   "name": "python3"
  },
  "language_info": {
   "codemirror_mode": {
    "name": "ipython",
    "version": 3
   },
   "file_extension": ".py",
   "mimetype": "text/x-python",
   "name": "python",
   "nbconvert_exporter": "python",
   "pygments_lexer": "ipython3",
   "version": "3.8.8"
  },
  "metadata": {
   "interpreter": {
    "hash": "ac59ebe37160ed0dfa835113d9b8498d9f09ceb179beaac4002f036b9467c963"
   }
  }
 },
 "nbformat": 4,
 "nbformat_minor": 1
}
