{
 "cells": [
  {
   "cell_type": "markdown",
   "metadata": {
    "id": "yLuALiyCkUJ3"
   },
   "source": [
    "# Combining Strings\n",
    "\n",
    "Combining strings is an important skill to acquire. There are multiple ways of combining strings in Python, as well as combining strings with variables. We will explore this in the first challenge. In the cell below, combine the strings in the list and add spaces between the strings (do not add a space after the last string). Insert a period after the last string."
   ]
  },
  {
   "cell_type": "code",
   "execution_count": 3,
   "metadata": {},
   "outputs": [],
   "source": [
    "str_list = ['Durante', 'un', 'tiempo', 'no', 'estuvo', 'segura', 'de', 'si', 'su', 'marido', 'era', 'su', 'marido']"
   ]
  },
  {
   "cell_type": "code",
   "execution_count": 4,
   "metadata": {
    "id": "n0LxSL1tkUJ4"
   },
   "outputs": [
    {
     "data": {
      "text/plain": [
       "'Durante un tiempo no estuvo segura de si su marido era su marido.'"
      ]
     },
     "execution_count": 4,
     "metadata": {},
     "output_type": "execute_result"
    }
   ],
   "source": [
    "# Your code here\n",
    "str_complete = ' '.join(str_list) + '.'\n",
    "str_complete"
   ]
  },
  {
   "cell_type": "markdown",
   "metadata": {
    "id": "jjnjuDhbkUJ6"
   },
   "source": [
    "In the cell below, use the list of strings to create a grocery list. Start the list with the string `Grocery list: ` and include a comma and a space between each item except for the last one. Include a period at the end. Only include foods in the list that start with the letter 'b' and ensure all foods are lower case.  \n",
    "You should have something like this:  \n",
    "*`Grocery list: bananas, bread, brownie mix, broccoli.`*"
   ]
  },
  {
   "cell_type": "code",
   "execution_count": 5,
   "metadata": {},
   "outputs": [],
   "source": [
    "food_list = ['Bananas', 'Chocolate', 'bread', 'diapers', 'Ice Cream', 'Brownie Mix', 'broccoli']"
   ]
  },
  {
   "cell_type": "code",
   "execution_count": 6,
   "metadata": {
    "id": "D9EWG-9YkUJ6"
   },
   "outputs": [
    {
     "data": {
      "text/plain": [
       "'Grocery list: bananas, bread, brownie mix, broccoli.'"
      ]
     },
     "execution_count": 6,
     "metadata": {},
     "output_type": "execute_result"
    }
   ],
   "source": [
    "# Your code here\n",
    "grocery_list = []\n",
    "\n",
    "for b_words in food_list:\n",
    "    \n",
    "    if b_words.lower().startswith('b') == True:\n",
    "        grocery_list.append(b_words.lower())\n",
    "        \n",
    "grocery_list = 'Grocery list: ' + ', '.join(grocery_list) + '.'\n",
    "grocery_list"
   ]
  },
  {
   "cell_type": "markdown",
   "metadata": {
    "id": "5wUx1N0gkUJ_"
   },
   "source": [
    "# Splitting Strings\n",
    "\n",
    "We have first looked at combining strings into one long string. There are times where we need to do the opposite and split the string into smaller components for further analysis. \n",
    "\n",
    "In the cell below, split the string into a list of strings using the space delimiter. Count the frequency of each word in the string in a dictionary. Strip the periods, line breaks and commas from the text. Make sure to remove empty strings from your dictionary."
   ]
  },
  {
   "cell_type": "code",
   "execution_count": 7,
   "metadata": {
    "id": "5kCqHBEUkUKA"
   },
   "outputs": [],
   "source": [
    "poem = \"\"\"Some say the world will end in fire,\n",
    "Some say in ice.\n",
    "From what I’ve tasted of desire\n",
    "I hold with those who favor fire.\n",
    "But if it had to perish twice,\n",
    "I think I know enough of hate\n",
    "To say that for destruction ice\n",
    "Is also great\n",
    "And would suffice.\"\"\""
   ]
  },
  {
   "cell_type": "code",
   "execution_count": 13,
   "metadata": {},
   "outputs": [
    {
     "name": "stdout",
     "output_type": "stream",
     "text": [
      "{'Some': 2, 'say': 3, 'the': 1, 'world': 1, 'will': 1, 'end': 1, 'in': 2, 'fire': 2, 'ice': 2, 'From': 1, 'what': 1, 'I’ve': 1, 'tasted': 1, 'of': 2, 'desire': 1, 'I': 3, 'hold': 1, 'with': 1, 'those': 1, 'who': 1, 'favor': 1, 'But': 1, 'if': 1, 'it': 1, 'had': 1, 'to': 1, 'perish': 1, 'twice': 1, 'think': 1, 'know': 1, 'enough': 1, 'hate': 1, 'To': 1, 'that': 1, 'for': 1, 'destruction': 1, 'Is': 1, 'also': 1, 'great': 1, 'And': 1, 'would': 1, 'suffice': 1}\n"
     ]
    }
   ],
   "source": [
    "# Your code here\n",
    "list_words = poem.replace('\\n',' ').replace('.','').replace(',','').split(' ')\n",
    "dict_words = {}\n",
    "\n",
    "for word in list_words:\n",
    "    dict_words[word] = list_words.count(word)\n",
    "\n",
    "print(dict_words)"
   ]
  },
  {
   "cell_type": "markdown",
   "metadata": {
    "id": "84q3YtTEkUKC"
   },
   "source": [
    "In the cell below, find all the words that appear in the text and do not appear in the `reject_list`.  \n",
    "You must parse the string but can choose any data structure you wish for the words that do not appear in the `reject_list`.  \n",
    "Remove all non letter characters and convert all words to lower case."
   ]
  },
  {
   "cell_type": "code",
   "execution_count": null,
   "metadata": {
    "id": "Xx0iP3skkUKE"
   },
   "outputs": [],
   "source": [
    "reject_list = ['and', 'as', 'an', 'a', 'the', 'in', 'it']\n",
    "\n",
    "poem = \"\"\"I was angry with my friend; \n",
    "I told my wrath, my wrath did end.\n",
    "I was angry with my foe: \n",
    "I told it not, my wrath did grow. \n",
    "\n",
    "And I waterd it in fears,\n",
    "Night & morning with my tears: \n",
    "And I sunned it with smiles,\n",
    "And with soft deceitful wiles. \n",
    "\n",
    "And it grew both day and night. \n",
    "Till it bore an apple bright. \n",
    "And my foe beheld it shine,\n",
    "And he knew that it was mine. \n",
    "\n",
    "And into my garden stole, \n",
    "When the night had veild the pole; \n",
    "In the morning glad I see; \n",
    "My foe outstretched beneath the tree.\"\"\""
   ]
  },
  {
   "cell_type": "code",
   "execution_count": null,
   "metadata": {},
   "outputs": [],
   "source": [
    "# Your code here"
   ]
  },
  {
   "cell_type": "markdown",
   "metadata": {
    "id": "LKji8o7ayAba"
   },
   "source": [
    "# Regular Expressions - regex"
   ]
  },
  {
   "cell_type": "markdown",
   "metadata": {},
   "source": [
    "First of all, `import regex` module."
   ]
  },
  {
   "cell_type": "code",
   "execution_count": 14,
   "metadata": {},
   "outputs": [],
   "source": [
    "import re"
   ]
  },
  {
   "cell_type": "markdown",
   "metadata": {},
   "source": [
    "Obtain a list containing all phone numbers in the text below:  \n",
    "*Note: There should be 5 of them.*"
   ]
  },
  {
   "cell_type": "code",
   "execution_count": 17,
   "metadata": {
    "id": "wM4v-225yBNP"
   },
   "outputs": [],
   "source": [
    "text = \"\"\"\n",
    "Henry's phone number is 9789-0984\n",
    "Darlene's phone number is 4222-0901\n",
    "Andrew's phone number is 4312-5701\n",
    "James' phone number is 9413 1383\n",
    "Erica's phone number is 8993-1031\n",
    "\"\"\""
   ]
  },
  {
   "cell_type": "code",
   "execution_count": 21,
   "metadata": {},
   "outputs": [
    {
     "data": {
      "text/plain": [
       "['9789-0984', '4222-0901', '4312-5701', '9413 1383', '8993-1031']"
      ]
     },
     "execution_count": 21,
     "metadata": {},
     "output_type": "execute_result"
    }
   ],
   "source": [
    "# Your code here\n",
    "re.findall('\\d+[ -]?\\d+',text)"
   ]
  },
  {
   "cell_type": "markdown",
   "metadata": {
    "id": "N7UZNc5lxSzZ"
   },
   "source": [
    "\n",
    "In the cell below, filter the list provided and return all elements of the list containing a number.   \n",
    "To filter the list, use the `re.search` function.  \n",
    "Check if the function does not return None.   \n",
    "You can read more about the `re.search` function [here](https://docs.python.org/3/library/re.html)."
   ]
  },
  {
   "cell_type": "code",
   "execution_count": 22,
   "metadata": {
    "id": "EzUBZKGqxX-A"
   },
   "outputs": [],
   "source": [
    "data = ['123abc', 'abc123', 'JohnSmith1', 'ABBY4', 'JANE']"
   ]
  },
  {
   "cell_type": "code",
   "execution_count": 55,
   "metadata": {},
   "outputs": [
    {
     "data": {
      "text/plain": [
       "['123abc', 'abc123', 'JohnSmith1', 'ABBY4']"
      ]
     },
     "execution_count": 55,
     "metadata": {},
     "output_type": "execute_result"
    }
   ],
   "source": [
    "# Your code here\n",
    "text = ' '.join(data)\n",
    "re.findall('\\w*?\\d+\\w*',text)"
   ]
  },
  {
   "cell_type": "code",
   "execution_count": 56,
   "metadata": {},
   "outputs": [
    {
     "name": "stdout",
     "output_type": "stream",
     "text": [
      "['123abc', 'abc123', 'JohnSmith1', 'ABBY4']\n"
     ]
    }
   ],
   "source": [
    "list_num = []\n",
    "\n",
    "for num in data:\n",
    "    if re.search('\\d',num):\n",
    "        list_num.append(num)\n",
    "\n",
    "print(list_num)"
   ]
  },
  {
   "cell_type": "markdown",
   "metadata": {},
   "source": [
    "# Bonus "
   ]
  },
  {
   "cell_type": "markdown",
   "metadata": {},
   "source": [
    "### Strings\n",
    "Based on this `reviews` list we want to know the frequency of words that are in the `keywords_list`.  \n",
    "*Pay attention to lower and upper letters, this can change your frequency counting.*\n"
   ]
  },
  {
   "cell_type": "code",
   "execution_count": 57,
   "metadata": {},
   "outputs": [],
   "source": [
    "reviews = [\"Anacell provides the best services in the city whereas betacellular is the best of the world\",\n",
    "  \"cetracular has awesome services, cetracular is good, cetracular is awesome!\",\n",
    "  \"Best services provided by anacell, everyone should use anacell\",\n",
    "  \"Wow, betacellular services are good.\",]\n",
    "keywords_list = [\"anacell\", \"cetracular\", \"betacellular\"]"
   ]
  },
  {
   "cell_type": "code",
   "execution_count": 64,
   "metadata": {},
   "outputs": [
    {
     "name": "stdout",
     "output_type": "stream",
     "text": [
      "{'anacell': 3, 'cetracular': 3, 'betacellular': 2}\n"
     ]
    }
   ],
   "source": [
    "# Your code here\n",
    "dict_keywords = {}\n",
    "str_reviews = ' '.join(reviews).lower()\n",
    "\n",
    "for keywords in keywords_list:    \n",
    "    if re.search(keywords,str_reviews):\n",
    "        dict_keywords[keywords] = re.findall(keywords,str_reviews).count(keywords)\n",
    "\n",
    "print(dict_keywords)"
   ]
  },
  {
   "cell_type": "markdown",
   "metadata": {
    "id": "A2T86JzMwoLT"
   },
   "source": [
    "### Regular Expressions - regex\n",
    "\n",
    "In the cell below, filter the list provided to keep only strings containing `at least one digit` and `at least one lower case letter`.  \n",
    "As in the previous question, use the `re.search` function and check that the result is not `None`."
   ]
  },
  {
   "cell_type": "code",
   "execution_count": null,
   "metadata": {
    "id": "rcVk3Gabwomy"
   },
   "outputs": [],
   "source": [
    "data = ['123abc', 'abc123', 'JohnSmith1', 'ABBY4', 'JANE']"
   ]
  },
  {
   "cell_type": "code",
   "execution_count": 95,
   "metadata": {},
   "outputs": [
    {
     "name": "stdout",
     "output_type": "stream",
     "text": [
      "['123abc', 'abc123', 'JohnSmith1']\n"
     ]
    }
   ],
   "source": [
    "# Your code here\n",
    "num_lowercase = []\n",
    "\n",
    "for num in data:\n",
    "    if re.search('[a-z][0-9]*',num):\n",
    "        num_lowercase.append(num)\n",
    "\n",
    "print(num_lowercase)"
   ]
  }
 ],
 "metadata": {
  "colab": {
   "collapsed_sections": [],
   "name": "main.ipynb",
   "provenance": []
  },
  "kernelspec": {
   "display_name": "Python 3",
   "language": "python",
   "name": "python3"
  },
  "language_info": {
   "codemirror_mode": {
    "name": "ipython",
    "version": 3
   },
   "file_extension": ".py",
   "mimetype": "text/x-python",
   "name": "python",
   "nbconvert_exporter": "python",
   "pygments_lexer": "ipython3",
   "version": "3.8.8"
  },
  "toc": {
   "base_numbering": 1,
   "nav_menu": {},
   "number_sections": true,
   "sideBar": true,
   "skip_h1_title": false,
   "title_cell": "Table of Contents",
   "title_sidebar": "Contents",
   "toc_cell": false,
   "toc_position": {},
   "toc_section_display": true,
   "toc_window_display": false
  },
  "varInspector": {
   "cols": {
    "lenName": 16,
    "lenType": 16,
    "lenVar": 40
   },
   "kernels_config": {
    "python": {
     "delete_cmd_postfix": "",
     "delete_cmd_prefix": "del ",
     "library": "var_list.py",
     "varRefreshCmd": "print(var_dic_list())"
    },
    "r": {
     "delete_cmd_postfix": ") ",
     "delete_cmd_prefix": "rm(",
     "library": "var_list.r",
     "varRefreshCmd": "cat(var_dic_list()) "
    }
   },
   "types_to_exclude": [
    "module",
    "function",
    "builtin_function_or_method",
    "instance",
    "_Feature"
   ],
   "window_display": false
  }
 },
 "nbformat": 4,
 "nbformat_minor": 1
}
